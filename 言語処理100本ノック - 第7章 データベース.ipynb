{
 "cells": [
  {
   "cell_type": "markdown",
   "metadata": {},
   "source": [
    "# 言語処理100本ノック 2015\n",
    "\n",
    "http://www.cl.ecei.tohoku.ac.jp/nlp100/\n",
    "\n",
    "言語処理100本ノックは，実践的な課題に取り組みながら，プログラミング，データ分析，研究のスキルを楽しく習得することを目指した問題集です\n",
    "\n",
    "* 実用的でワクワクするような題材を厳選しました\n",
    "* 言語処理に加えて，統計や機械学習などの周辺分野にも親しめます\n",
    "* 研究やデータ分析の進め方，作法，スキルを修得できます\n",
    "* 問題を解くのに必要なデータ・コーパスを配布しています\n",
    "* 言語はPythonを想定していますが，他の言語にも対応しています\n"
   ]
  },
  {
   "cell_type": "markdown",
   "metadata": {},
   "source": [
    "## 第7章: データベース\n",
    "\n",
    "[artist.json.gz](http://www.cl.ecei.tohoku.ac.jp/nlp100/data/artist.json.gz)は，オープンな音楽データベース[MusicBrainz](https://musicbrainz.org/)の中で，アーティストに関するものをJSON形式に変換し，gzip形式で圧縮したファイルである．このファイルには，1アーティストに関する情報が1行にJSON形式で格納されている．JSON形式の概要は以下の通りである．\n",
    "\n",
    "|フィールド |\t型 |\t内容 |\t例|\n",
    "|:-----------|------------:|:------------:|\n",
    "|id |\tユニーク識別子 |\t整数 |\t20660|\n",
    "|gid |\tグローバル識別子 |\t文字列 |\t\"ecf9f3a3-35e9-4c58-acaa-e707fba45060\"|\n",
    "|name |\tアーティスト名 |\t文字列 |\t\"Oasis\"|\n",
    "|sort_name |\tアーティスト名（辞書順整列用） |\t文字列 |\t\"Oasis\"|\n",
    "|area |\t活動場所 |\t文字列 |\t\"United Kingdom\"|\n",
    "|aliases |\t別名 |\t辞書オブジェクトのリスト |\t|\n",
    "|aliases[].name |\t別名 |\t文字列 |\t\"オアシス\"|\n",
    "|aliases[].sort_name |\t別名（整列用） |\t文字列 |\t\"オアシス\"|\n",
    "|begin |\t活動開始日 |\t辞書 |\t|\n",
    "|begin.year |\t活動開始年 |\t整数 |\t1991|\n",
    "|begin.month |\t活動開始月 |\t整数 |\t|\n",
    "|begin.date |\t活動開始日 |\t整数 |\t|\n",
    "|end |\t活動終了日 |\t辞書 |\t|\n",
    "|end.year |\t活動終了年 |\t整数 |\t2009|\n",
    "|end.month |\t活動終了月 |\t整数 |\t8|\n",
    "|end.date |\t活動終了日 |\t整数 |\t28|\n",
    "|tags |\tタグ |\t辞書オブジェクトのリスト |\t|\n",
    "|tags[].count |\tタグ付けされた回数 |\t整数 |\t1|\n",
    "|tags[].value |\tタグ内容 |\t文字列 |\t\"rock\"|\n",
    "|rating |\tレーティング |\t辞書オブジェクト |\t|\n",
    "|rating.count |\tレーティングの投票数 |\t整数 |\t13|\n",
    "|rating.value |\tレーティングの値（平均値） |\t整数 |\t86|\n",
    "\n",
    "artist.json.gzのデータをKey-Value-Store (KVS) およびドキュメント志向型データベースに格納・検索することを考える．KVSとしては，[LevelDB](http://leveldb.org/)，[Redis](http://redis.io/)，[KyotoCabinet](http://fallabs.com/kyotocabinet/)等を用いよ．ドキュメント志向型データベースとして，[MongoDB](http://www.mongodb.org/)を採用したが，[CouchDB](http://couchdb.apache.org/)や[RethinkDB](http://rethinkdb.com/)等を用いてもよい．"
   ]
  },
  {
   "cell_type": "markdown",
   "metadata": {},
   "source": [
    "### 60. KVSの構築\n",
    "\n",
    "Key-Value-Store (KVS) を用い，アーティスト名（name）から活動場所（area）を検索するためのデータベースを構築せよ．"
   ]
  },
  {
   "cell_type": "markdown",
   "metadata": {},
   "source": [
    "### 61. KVSの検索\n",
    "\n",
    "60で構築したデータベースを用い，特定の（指定された）アーティストの活動場所を取得せよ．"
   ]
  },
  {
   "cell_type": "markdown",
   "metadata": {},
   "source": [
    "### 62. KVS内の反復処理\n",
    "\n",
    "60で構築したデータベースを用い，活動場所が「Japan」となっているアーティスト数を求めよ．"
   ]
  },
  {
   "cell_type": "markdown",
   "metadata": {},
   "source": [
    "### 63. オブジェクトを値に格納したKVS\n",
    "\n",
    "KVSを用い，アーティスト名（name）からタグと被タグ数（タグ付けされた回数）のリストを検索するためのデータベースを構築せよ．さらに，ここで構築したデータベースを用い，アーティスト名からタグと被タグ数を検索せよ．"
   ]
  },
  {
   "cell_type": "markdown",
   "metadata": {},
   "source": [
    "### 64. MongoDBの構築\n",
    "\n",
    "アーティスト情報（artist.json.gz）をデータベースに登録せよ．さらに，次のフィールドでインデックスを作成せよ: name, aliases.name, tags.value, rating.value"
   ]
  },
  {
   "cell_type": "markdown",
   "metadata": {},
   "source": [
    "### 65. MongoDBの検索\n",
    "\n",
    "MongoDBのインタラクティブシェルを用いて，\"Queen\"というアーティストに関する情報を取得せよ．さらに，これと同様の処理を行うプログラムを実装せよ．"
   ]
  },
  {
   "cell_type": "markdown",
   "metadata": {},
   "source": [
    "### 66. 検索件数の取得\n",
    "\n",
    "MongoDBのインタラクティブシェルを用いて，活動場所が「Japan」となっているアーティスト数を求めよ．"
   ]
  },
  {
   "cell_type": "markdown",
   "metadata": {},
   "source": [
    "### 67. 複数のドキュメントの取得\n",
    "\n",
    "特定の（指定した）別名を持つアーティストを検索せよ．"
   ]
  },
  {
   "cell_type": "markdown",
   "metadata": {},
   "source": [
    "### 68. ソート\n",
    "\n",
    "\"dance\"というタグを付与されたアーティストの中でレーティングの投票数が多いアーティスト・トップ10を求めよ．"
   ]
  },
  {
   "cell_type": "markdown",
   "metadata": {},
   "source": [
    "### 69. Webアプリケーションの作成\n",
    "\n",
    "ユーザから入力された検索条件に合致するアーティストの情報を表示するWebアプリケーションを作成せよ．アーティスト名，アーティストの別名，タグ等で検索条件を指定し，アーティスト情報のリストをレーティングの高い順などで整列して表示せよ．"
   ]
  }
 ],
 "metadata": {
  "anaconda-cloud": {},
  "kernelspec": {
   "display_name": "Python [yamaconda]",
   "language": "python",
   "name": "Python [yamaconda]"
  },
  "language_info": {
   "codemirror_mode": {
    "name": "ipython",
    "version": 3
   },
   "file_extension": ".py",
   "mimetype": "text/x-python",
   "name": "python",
   "nbconvert_exporter": "python",
   "pygments_lexer": "ipython3",
   "version": "3.5.2"
  }
 },
 "nbformat": 4,
 "nbformat_minor": 0
}
