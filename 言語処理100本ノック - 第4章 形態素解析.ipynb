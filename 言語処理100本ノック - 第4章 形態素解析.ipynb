{
 "cells": [
  {
   "cell_type": "markdown",
   "metadata": {},
   "source": [
    "# 言語処理100本ノック 2015\n",
    "\n",
    "http://www.cl.ecei.tohoku.ac.jp/nlp100/\n",
    "\n",
    "言語処理100本ノックは，実践的な課題に取り組みながら，プログラミング，データ分析，研究のスキルを楽しく習得することを目指した問題集です\n",
    "\n",
    "* 実用的でワクワクするような題材を厳選しました\n",
    "* 言語処理に加えて，統計や機械学習などの周辺分野にも親しめます\n",
    "* 研究やデータ分析の進め方，作法，スキルを修得できます\n",
    "* 問題を解くのに必要なデータ・コーパスを配布しています\n",
    "* 言語はPythonを想定していますが，他の言語にも対応しています\n"
   ]
  },
  {
   "cell_type": "markdown",
   "metadata": {},
   "source": [
    "## 第4章: 形態素解析\n",
    "\n",
    "夏目漱石の小説『吾輩は猫である』の文章（[neko.txt](http://www.cl.ecei.tohoku.ac.jp/nlp100/data/neko.txt)）をMeCabを使って形態素解析し，その結果をneko.txt.mecabというファイルに保存せよ．このファイルを用いて，以下の問に対応するプログラムを実装せよ．\n",
    "\n",
    "なお，問題37, 38, 39は[matplotlib](http://matplotlib.org/)もしくは[Gnuplot](http://www.gnuplot.info/)を用いるとよい．\n"
   ]
  },
  {
   "cell_type": "markdown",
   "metadata": {},
   "source": [
    "### 30. 形態素解析結果の読み込み\n",
    "\n",
    "形態素解析結果（neko.txt.mecab）を読み込むプログラムを実装せよ．ただし，各形態素は表層形（surface），基本形（base），品詞（pos），品詞細分類1（pos1）をキーとするマッピング型に格納し，1文を形態素（マッピング型）のリストとして表現せよ．第4章の残りの問題では，ここで作ったプログラムを活用せよ．"
   ]
  },
  {
   "cell_type": "code",
   "execution_count": 57,
   "metadata": {
    "collapsed": false
   },
   "outputs": [],
   "source": [
    "nekoMorphList = list()\n",
    "f = open(\"neko.txt.mecab\", encoding='utf-8')\n",
    "for line in f:\n",
    "    if line == 'EOS\\n':\n",
    "        continue\n",
    "\n",
    "    splitedList = line.rstrip().split(',')\n",
    "\n",
    "    surface = splitedList[0].split('\\t')[0]\n",
    "    base = splitedList[4]\n",
    "    pos = splitedList[0].split('\\t')[1]\n",
    "    pos1 = splitedList[1]\n",
    "    \n",
    "    node = {'surface': surface, 'base': base, 'pos': pos, 'pos1': pos1}\n",
    "    nekoMorphList.append(node)\n",
    "f.close()"
   ]
  },
  {
   "cell_type": "markdown",
   "metadata": {},
   "source": [
    "### 31. 動詞\n",
    "\n",
    "動詞の表層形をすべて抽出せよ．"
   ]
  },
  {
   "cell_type": "code",
   "execution_count": 58,
   "metadata": {
    "collapsed": false
   },
   "outputs": [],
   "source": [
    "verbList = [ node['surface'] for node in nekoMorphList if node['pos'] == '動詞' ]"
   ]
  },
  {
   "cell_type": "markdown",
   "metadata": {},
   "source": [
    "### 32. 動詞の原形\n",
    "\n",
    "動詞の原形をすべて抽出せよ．"
   ]
  },
  {
   "cell_type": "code",
   "execution_count": 59,
   "metadata": {
    "collapsed": false
   },
   "outputs": [],
   "source": [
    "verbBaseSet = set([ node['base'] for node in nekoMorphList if node['pos'] == '動詞' ])"
   ]
  },
  {
   "cell_type": "markdown",
   "metadata": {},
   "source": [
    "### 33. サ変名詞\n",
    "\n",
    "サ変接続の名詞をすべて抽出せよ．"
   ]
  },
  {
   "cell_type": "code",
   "execution_count": 60,
   "metadata": {
    "collapsed": false
   },
   "outputs": [],
   "source": [
    "sahenSetsuzoku = [ node for node in nekoMorphList if node['pos1'] == 'サ変名詞' ]"
   ]
  },
  {
   "cell_type": "markdown",
   "metadata": {},
   "source": [
    "### 34. 「AのB」\n",
    "\n",
    "2つの名詞が「の」で連結されている名詞句を抽出せよ．"
   ]
  },
  {
   "cell_type": "code",
   "execution_count": 61,
   "metadata": {
    "collapsed": false
   },
   "outputs": [],
   "source": [
    "verb_no_verb_list = list()\n",
    "buf = list( [{'surface': '', 'pos': ''}] * 2)\n",
    "for node in nekoMorphList:\n",
    "    if buf[0]['pos'] == '名詞' and buf[1]['surface'] == 'の' and buf[1]['pos'] == '助詞' and node['pos'] == '名詞':\n",
    "        verb_no_verb_list.append(buf[0]['surface'] + buf[1]['surface'] + node['surface'])\n",
    "    buf[0] = buf[1]\n",
    "    buf[1] = node\n"
   ]
  },
  {
   "cell_type": "markdown",
   "metadata": {},
   "source": [
    "### 35. 名詞の連接\n",
    "\n",
    "名詞の連接（連続して出現する名詞）を最長一致で抽出せよ．"
   ]
  },
  {
   "cell_type": "code",
   "execution_count": 62,
   "metadata": {
    "collapsed": false
   },
   "outputs": [],
   "source": [
    "meishi_rensetsu_list = list()\n",
    "buf = list()\n",
    "for node in nekoMorphList:\n",
    "    if node['pos'] == '名詞':\n",
    "        buf.append(node)\n",
    "        pass\n",
    "    else:\n",
    "        if 1 < len(buf):\n",
    "            meishi_rensetsu_list.append(buf)\n",
    "        buf = list()\n",
    "#for meishi_rensetsu in meishi_rensetsu_list:\n",
    "#    meishi_rensetsu_joined = ''.join(map(lambda node: node['surface'], meishi_rensetsu))\n",
    "#    print(meishi_rensetsu_joined)"
   ]
  },
  {
   "cell_type": "markdown",
   "metadata": {},
   "source": [
    "### 36. 単語の出現頻度\n",
    "\n",
    "文章中に出現する単語とその出現頻度を求め，出現頻度の高い順に並べよ．"
   ]
  },
  {
   "cell_type": "code",
   "execution_count": 63,
   "metadata": {
    "collapsed": false
   },
   "outputs": [],
   "source": [
    "freq_dict = {}\n",
    "for node in nekoMorphList:\n",
    "    freq_dict[node['base']] = freq_dict.get(node['base'], 0) + 1\n",
    "freq_list = sorted(freq_dict.items(), key=lambda x: x[1], reverse=True)"
   ]
  },
  {
   "cell_type": "code",
   "execution_count": 64,
   "metadata": {
    "collapsed": false
   },
   "outputs": [],
   "source": [
    "from collections import Counter\n",
    "freq_counter = Counter([node['base'] for node in nekoMorphList ])\n",
    "# for word, num in freq_counter.most_common(): print(word,num)"
   ]
  },
  {
   "cell_type": "markdown",
   "metadata": {},
   "source": [
    "### 37. 頻度上位10語\n",
    "\n",
    "出現頻度が高い10語とその出現頻度をグラフ（例えば棒グラフなど）で表示せよ．"
   ]
  },
  {
   "cell_type": "code",
   "execution_count": 65,
   "metadata": {
    "collapsed": false
   },
   "outputs": [
    {
     "data": {
      "image/png": "[encoded data removed]",
      "text/plain": [
       "<matplotlib.figure.Figure at 0x1149f1b00>"
      ]
     },
     "metadata": {},
     "output_type": "display_data"
    }
   ],
   "source": [
    "%matplotlib inline\n",
    "import numpy as np\n",
    "import matplotlib.pyplot as plt\n",
    "\n",
    "x = np.array(range(10))\n",
    "x_ticks = [ word for word, num in freq_counter.most_common(10)]\n",
    "y = [ num for word, num in freq_counter.most_common(10)]\n",
    "\n",
    "plt.bar(x, y, align=\"center\")\n",
    "plt.xticks(x, x_ticks)\n",
    "plt.show()"
   ]
  },
  {
   "cell_type": "markdown",
   "metadata": {},
   "source": [
    "### 38. ヒストグラム\n",
    "\n",
    "単語の出現頻度のヒストグラム（横軸に出現頻度，縦軸に出現頻度をとる単語の種類数を棒グラフで表したもの）を描け．"
   ]
  },
  {
   "cell_type": "code",
   "execution_count": 66,
   "metadata": {
    "collapsed": false
   },
   "outputs": [
    {
     "data": {
      "image/png": "[encoded data removed]",
      "text/plain": [
       "<matplotlib.figure.Figure at 0x114a4bdd8>"
      ]
     },
     "metadata": {},
     "output_type": "display_data"
    }
   ],
   "source": [
    "histgram_counter = Counter([ freq for _, freq in freq_counter.most_common()])\n",
    "#for freq, word_num in histgram_counter.most_common(): print(freq, word_num)\n",
    "\n",
    "x = np.array([freq for freq, word_num in histgram_counter.most_common()])\n",
    "y = np.array([word_num for freq, word_num in histgram_counter.most_common()])\n",
    "plt.bar(x, y, align=\"center\")\n",
    "plt.show()"
   ]
  },
  {
   "cell_type": "markdown",
   "metadata": {},
   "source": [
    "### 39. Zipfの法則\n",
    "\n",
    "単語の出現頻度順位を横軸，その出現頻度を縦軸として，両対数グラフをプロットせよ．"
   ]
  },
  {
   "cell_type": "code",
   "execution_count": 67,
   "metadata": {
    "collapsed": false
   },
   "outputs": [
    {
     "data": {
      "image/png": "[encoded data removed]",
      "text/plain": [
       "<matplotlib.figure.Figure at 0x1149f1f60>"
      ]
     },
     "metadata": {},
     "output_type": "display_data"
    }
   ],
   "source": [
    "y = np.array([np.log(freq) for freq, word_num in histgram_counter.most_common()])\n",
    "x = np.array(range(1, len(y) + 1))\n",
    "plt.bar(x, y, align=\"center\")\n",
    "plt.show()"
   ]
  }
 ],
 "metadata": {
  "anaconda-cloud": {},
  "kernelspec": {
   "display_name": "Python [yamaconda]",
   "language": "python",
   "name": "Python [yamaconda]"
  },
  "language_info": {
   "codemirror_mode": {
    "name": "ipython",
    "version": 3
   },
   "file_extension": ".py",
   "mimetype": "text/x-python",
   "name": "python",
   "nbconvert_exporter": "python",
   "pygments_lexer": "ipython3",
   "version": "3.5.2"
  }
 },
 "nbformat": 4,
 "nbformat_minor": 0
}
